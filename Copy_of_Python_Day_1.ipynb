{
  "nbformat": 4,
  "nbformat_minor": 0,
  "metadata": {
    "colab": {
      "provenance": []
    },
    "kernelspec": {
      "name": "python3",
      "display_name": "Python 3"
    },
    "language_info": {
      "name": "python"
    }
  },
  "cells": [
    {
      "cell_type": "code",
      "execution_count": null,
      "metadata": {
        "id": "OGGsuhS94UhT"
      },
      "outputs": [],
      "source": []
    },
    {
      "cell_type": "markdown",
      "source": [
        "# Python Basics Day 1 Notebook\n",
        "## I enjoy learning Python\n",
        "### It is my favourite subject\n",
        "<p> I am learning Python Basics </p>"
      ],
      "metadata": {
        "id": "wsQxMyXm8Fth"
      }
    },
    {
      "cell_type": "markdown",
      "source": [
        "# This is Section 2"
      ],
      "metadata": {
        "id": "VC5rrheJ9l4b"
      }
    },
    {
      "cell_type": "code",
      "source": [
        "!python --version"
      ],
      "metadata": {
        "colab": {
          "base_uri": "https://localhost:8080/"
        },
        "id": "wMQSQrNj-GAx",
        "outputId": "3a0a7186-39c1-432f-8af0-28a886c9c653"
      },
      "execution_count": null,
      "outputs": [
        {
          "output_type": "stream",
          "name": "stdout",
          "text": [
            "Python 3.11.12\n"
          ]
        }
      ]
    },
    {
      "cell_type": "code",
      "source": [
        "print (\"Hello World!\")"
      ],
      "metadata": {
        "colab": {
          "base_uri": "https://localhost:8080/"
        },
        "id": "96lbSAFQ-cIs",
        "outputId": "21adfa57-e2f5-44bc-e527-f3a18082ce43"
      },
      "execution_count": null,
      "outputs": [
        {
          "output_type": "stream",
          "name": "stdout",
          "text": [
            "Hello World!\n"
          ]
        }
      ]
    },
    {
      "cell_type": "markdown",
      "source": [
        "### Below syntax is used to connect google drive to google colab notebook"
      ],
      "metadata": {
        "id": "tYbyu0GYCgie"
      }
    },
    {
      "cell_type": "code",
      "source": [
        "from google.colab import drive\n",
        "drive.mount('/content/drive')"
      ],
      "metadata": {
        "colab": {
          "base_uri": "https://localhost:8080/"
        },
        "id": "KtPSuMNvCgO6",
        "outputId": "d234034e-a355-46dc-e2a9-d2ff6fd1d84a"
      },
      "execution_count": null,
      "outputs": [
        {
          "output_type": "stream",
          "name": "stdout",
          "text": [
            "Mounted at /content/drive\n"
          ]
        }
      ]
    },
    {
      "cell_type": "code",
      "source": [
        "print ('My Name is Mr.X')"
      ],
      "metadata": {
        "colab": {
          "base_uri": "https://localhost:8080/"
        },
        "id": "ZYTyJXGxBrQh",
        "outputId": "b39b7a92-7382-48d9-e13d-b22d500382c2"
      },
      "execution_count": null,
      "outputs": [
        {
          "output_type": "stream",
          "name": "stdout",
          "text": [
            "My Name is Mr.X\n"
          ]
        }
      ]
    },
    {
      "cell_type": "code",
      "source": [
        "print (\"My Name is MR.X\")"
      ],
      "metadata": {
        "colab": {
          "base_uri": "https://localhost:8080/"
        },
        "id": "j4iAF89DCP2t",
        "outputId": "ccfb06b0-c5f8-494e-adaf-bccd966e0863"
      },
      "execution_count": null,
      "outputs": [
        {
          "output_type": "stream",
          "name": "stdout",
          "text": [
            "My Name is MR.X\n"
          ]
        }
      ]
    },
    {
      "cell_type": "code",
      "source": [
        "print (\"I am learning Python')"
      ],
      "metadata": {
        "colab": {
          "base_uri": "https://localhost:8080/",
          "height": 106
        },
        "id": "Wo1q8TJVFPbA",
        "outputId": "13c6525a-dbc8-4569-e5d5-4f1da0d2f806"
      },
      "execution_count": null,
      "outputs": [
        {
          "output_type": "error",
          "ename": "SyntaxError",
          "evalue": "unterminated string literal (detected at line 1) (<ipython-input-7-fe48e379461d>, line 1)",
          "traceback": [
            "\u001b[0;36m  File \u001b[0;32m\"<ipython-input-7-fe48e379461d>\"\u001b[0;36m, line \u001b[0;32m1\u001b[0m\n\u001b[0;31m    print (\"I am learning Python')\u001b[0m\n\u001b[0m           ^\u001b[0m\n\u001b[0;31mSyntaxError\u001b[0m\u001b[0;31m:\u001b[0m unterminated string literal (detected at line 1)\n"
          ]
        }
      ]
    },
    {
      "cell_type": "code",
      "source": [
        "Print ('my father's fourite car is Pagani Zonda')"
      ],
      "metadata": {
        "colab": {
          "base_uri": "https://localhost:8080/",
          "height": 106
        },
        "id": "tOzm-nRMFpF1",
        "outputId": "3d718618-c290-441a-bae5-d5184b360756"
      },
      "execution_count": null,
      "outputs": [
        {
          "output_type": "error",
          "ename": "SyntaxError",
          "evalue": "unterminated string literal (detected at line 1) (<ipython-input-8-a354ec088b09>, line 1)",
          "traceback": [
            "\u001b[0;36m  File \u001b[0;32m\"<ipython-input-8-a354ec088b09>\"\u001b[0;36m, line \u001b[0;32m1\u001b[0m\n\u001b[0;31m    Print ('my father's fourite car is Pagani Zonda')\u001b[0m\n\u001b[0m                                                   ^\u001b[0m\n\u001b[0;31mSyntaxError\u001b[0m\u001b[0;31m:\u001b[0m unterminated string literal (detected at line 1)\n"
          ]
        }
      ]
    },
    {
      "cell_type": "markdown",
      "source": [
        "## Use either Single ' ' or Double Quotations \" \" and stick to it."
      ],
      "metadata": {
        "id": "XrO5J6ytGZQk"
      }
    },
    {
      "cell_type": "code",
      "source": [
        "print (3.14)"
      ],
      "metadata": {
        "colab": {
          "base_uri": "https://localhost:8080/"
        },
        "id": "gU4IcdyZGXWM",
        "outputId": "ecfd2d31-ca83-46e6-c1b8-78d4aea5cb51"
      },
      "execution_count": null,
      "outputs": [
        {
          "output_type": "stream",
          "name": "stdout",
          "text": [
            "3.14\n"
          ]
        }
      ]
    },
    {
      "cell_type": "code",
      "source": [
        "print (\"3.14\")"
      ],
      "metadata": {
        "colab": {
          "base_uri": "https://localhost:8080/"
        },
        "id": "s8do7QJKGqkM",
        "outputId": "866c1b21-903b-4c64-b047-45358f713918"
      },
      "execution_count": null,
      "outputs": [
        {
          "output_type": "stream",
          "name": "stdout",
          "text": [
            "3.14\n"
          ]
        }
      ]
    },
    {
      "cell_type": "code",
      "source": [
        "print (type(\"3.14\"))\n",
        "print (type(3.14))"
      ],
      "metadata": {
        "colab": {
          "base_uri": "https://localhost:8080/"
        },
        "id": "2qrfb7r9GuEA",
        "outputId": "c3245eeb-18e4-42cc-e21d-fc3cb04b7c07"
      },
      "execution_count": null,
      "outputs": [
        {
          "output_type": "stream",
          "name": "stdout",
          "text": [
            "<class 'str'>\n",
            "<class 'float'>\n"
          ]
        }
      ]
    },
    {
      "cell_type": "code",
      "source": [
        "print (\"3.14 \" * 2)\n",
        "print (3.14 *2)"
      ],
      "metadata": {
        "colab": {
          "base_uri": "https://localhost:8080/"
        },
        "id": "KQAgYiFIH1NV",
        "outputId": "170a09e6-6cdd-438b-c181-689d4c215d00"
      },
      "execution_count": null,
      "outputs": [
        {
          "output_type": "stream",
          "name": "stdout",
          "text": [
            "3.14 3.14 \n",
            "6.28\n"
          ]
        }
      ]
    },
    {
      "cell_type": "code",
      "source": [
        "print(len(\"3.14 \"))\n"
      ],
      "metadata": {
        "colab": {
          "base_uri": "https://localhost:8080/"
        },
        "id": "O2DO5f06H8ng",
        "outputId": "d9b95bb1-9883-47a9-8910-9e0152d27edb"
      },
      "execution_count": null,
      "outputs": [
        {
          "output_type": "stream",
          "name": "stdout",
          "text": [
            "5\n"
          ]
        }
      ]
    },
    {
      "cell_type": "code",
      "source": [
        "print(len(\"3.14\"))"
      ],
      "metadata": {
        "colab": {
          "base_uri": "https://localhost:8080/"
        },
        "id": "8ZmFi23cIwUl",
        "outputId": "8c51604e-7b99-46c9-a4d9-6b259834fc04"
      },
      "execution_count": null,
      "outputs": [
        {
          "output_type": "stream",
          "name": "stdout",
          "text": [
            "4\n"
          ]
        }
      ]
    },
    {
      "cell_type": "markdown",
      "source": [
        "### \\ is escape character, ignores next character\n",
        "### \\n creates new line"
      ],
      "metadata": {
        "id": "GzKYeoMUPYBJ"
      }
    },
    {
      "cell_type": "code",
      "source": [
        "print(\"The itsy bitsy spider\\nclimbed up the waterspout.\")\n",
        "print()\n",
        "print(\"Down came the rain\\nand washed the spider out.\")"
      ],
      "metadata": {
        "colab": {
          "base_uri": "https://localhost:8080/"
        },
        "id": "G36Z3FzVPDlN",
        "outputId": "02a17651-780f-471d-dd70-90b885ca7a5b"
      },
      "execution_count": null,
      "outputs": [
        {
          "output_type": "stream",
          "name": "stdout",
          "text": [
            "The itsy bitsy spider\n",
            "climbed up the waterspout.\n",
            "\n",
            "Down came the rain\n",
            "and washed the spider out.\n"
          ]
        }
      ]
    },
    {
      "cell_type": "code",
      "source": [
        "print('My father\\'s favorite car is Pagani Zonda.')"
      ],
      "metadata": {
        "colab": {
          "base_uri": "https://localhost:8080/"
        },
        "id": "JrbaYMf9Py66",
        "outputId": "be8433ef-9862-4f38-f3a4-adadf4d74236"
      },
      "execution_count": null,
      "outputs": [
        {
          "output_type": "stream",
          "name": "stdout",
          "text": [
            "My father's favorite car is Pagani Zonda.\n"
          ]
        }
      ]
    },
    {
      "cell_type": "code",
      "source": [
        "print(\"Python \\t is easy to learn.\")\n",
        "print(\"Python \\bis easy to learn.\")"
      ],
      "metadata": {
        "colab": {
          "base_uri": "https://localhost:8080/"
        },
        "id": "C4N06lb_P8-o",
        "outputId": "57662af4-380d-4cd6-f2fa-5ca51a8964a3"
      },
      "execution_count": null,
      "outputs": [
        {
          "output_type": "stream",
          "name": "stdout",
          "text": [
            "Python \t is easy to learn.\n",
            "Python \bis easy to learn.\n"
          ]
        }
      ]
    },
    {
      "cell_type": "code",
      "source": [
        "print (\"\\\")"
      ],
      "metadata": {
        "colab": {
          "base_uri": "https://localhost:8080/",
          "height": 106
        },
        "id": "5aJNR6yVQbfY",
        "outputId": "a6d2e32c-703f-484f-83a5-a78d76c3bb4f"
      },
      "execution_count": null,
      "outputs": [
        {
          "output_type": "error",
          "ename": "SyntaxError",
          "evalue": "unterminated string literal (detected at line 1) (<ipython-input-26-fed7d8041122>, line 1)",
          "traceback": [
            "\u001b[0;36m  File \u001b[0;32m\"<ipython-input-26-fed7d8041122>\"\u001b[0;36m, line \u001b[0;32m1\u001b[0m\n\u001b[0;31m    print (\"\\\")\u001b[0m\n\u001b[0m           ^\u001b[0m\n\u001b[0;31mSyntaxError\u001b[0m\u001b[0;31m:\u001b[0m unterminated string literal (detected at line 1)\n"
          ]
        }
      ]
    },
    {
      "cell_type": "code",
      "source": [
        "print (\"\\\\\")"
      ],
      "metadata": {
        "colab": {
          "base_uri": "https://localhost:8080/"
        },
        "id": "F0uoVLHlSOHA",
        "outputId": "d6aee27d-6f2c-41d1-f9fc-5dffab0fb56f"
      },
      "execution_count": null,
      "outputs": [
        {
          "output_type": "stream",
          "name": "stdout",
          "text": [
            "\\\n"
          ]
        }
      ]
    },
    {
      "cell_type": "code",
      "source": [
        "print (\"The itsy bitsy spider\", \"climbed up\", \"the waterspout\")\n",
        "\n",
        "print (\"the itsy bitsy spider climber up the waterspout\")"
      ],
      "metadata": {
        "colab": {
          "base_uri": "https://localhost:8080/"
        },
        "id": "2qSbvH44SPu6",
        "outputId": "0c8dc0a1-9c93-428b-a7e9-5893528717c9"
      },
      "execution_count": null,
      "outputs": [
        {
          "output_type": "stream",
          "name": "stdout",
          "text": [
            "The itsy bitsy spider climbed up the waterspout\n",
            "the itsy bitsy spider climber up the waterspout\n"
          ]
        }
      ]
    },
    {
      "cell_type": "code",
      "source": [
        "print (\"I am 35 years old.\", True)"
      ],
      "metadata": {
        "colab": {
          "base_uri": "https://localhost:8080/"
        },
        "id": "7i0v8uYfTPcu",
        "outputId": "3377def9-c7bb-4f4e-a509-e534958583c3"
      },
      "execution_count": null,
      "outputs": [
        {
          "output_type": "stream",
          "name": "stdout",
          "text": [
            "I am 35 years old. True\n"
          ]
        }
      ]
    },
    {
      "cell_type": "markdown",
      "source": [
        "## Python is case sensitive\n"
      ],
      "metadata": {
        "id": "TPPyAIsnUK2V"
      }
    },
    {
      "cell_type": "code",
      "source": [
        "PRINT (\"I am 35 years old.\")"
      ],
      "metadata": {
        "colab": {
          "base_uri": "https://localhost:8080/",
          "height": 141
        },
        "id": "0vYSW1stTeq8",
        "outputId": "84da1790-af29-4bcc-8365-a19831d8a042"
      },
      "execution_count": null,
      "outputs": [
        {
          "output_type": "error",
          "ename": "NameError",
          "evalue": "name 'PRINT' is not defined",
          "traceback": [
            "\u001b[0;31m---------------------------------------------------------------------------\u001b[0m",
            "\u001b[0;31mNameError\u001b[0m                                 Traceback (most recent call last)",
            "\u001b[0;32m<ipython-input-34-e7025c8a394c>\u001b[0m in \u001b[0;36m<cell line: 0>\u001b[0;34m()\u001b[0m\n\u001b[0;32m----> 1\u001b[0;31m \u001b[0mPRINT\u001b[0m \u001b[0;34m(\u001b[0m\u001b[0;34m\"I am 35 years old.\"\u001b[0m\u001b[0;34m)\u001b[0m\u001b[0;34m\u001b[0m\u001b[0;34m\u001b[0m\u001b[0m\n\u001b[0m",
            "\u001b[0;31mNameError\u001b[0m: name 'PRINT' is not defined"
          ]
        }
      ]
    },
    {
      "cell_type": "code",
      "source": [
        "print (\"The itsy bitsy spider\", \"climbed up\", \"the waterspout\")\n",
        "\n",
        "print (\"the itsy bitsy spider\" + \"climbed up\" + \"the waterspout\")"
      ],
      "metadata": {
        "colab": {
          "base_uri": "https://localhost:8080/"
        },
        "id": "SzVFpactURmS",
        "outputId": "cbb417ca-5094-4931-8807-6863527dfaf5"
      },
      "execution_count": null,
      "outputs": [
        {
          "output_type": "stream",
          "name": "stdout",
          "text": [
            "The itsy bitsy spider climbed up the waterspout\n",
            "the itsy bitsy spiderclimbed upthe waterspout\n"
          ]
        }
      ]
    },
    {
      "cell_type": "code",
      "source": [
        "print (2,3)\n",
        "print (2+3)"
      ],
      "metadata": {
        "colab": {
          "base_uri": "https://localhost:8080/"
        },
        "id": "vUvpUNBuVJYp",
        "outputId": "080e29a2-dede-4514-b063-681b731f0b96"
      },
      "execution_count": null,
      "outputs": [
        {
          "output_type": "stream",
          "name": "stdout",
          "text": [
            "2 3\n",
            "5\n"
          ]
        }
      ]
    },
    {
      "cell_type": "code",
      "source": [
        "print (\"2\"+\"3\")"
      ],
      "metadata": {
        "colab": {
          "base_uri": "https://localhost:8080/"
        },
        "id": "Jwqd9yn9WfHP",
        "outputId": "58a3b061-5f2d-4b80-8c42-bc8bd62c1ef3"
      },
      "execution_count": null,
      "outputs": [
        {
          "output_type": "stream",
          "name": "stdout",
          "text": [
            "23\n"
          ]
        }
      ]
    },
    {
      "cell_type": "markdown",
      "source": [
        "### Arithmic Operators"
      ],
      "metadata": {
        "id": "VVi3cWjUopCR"
      }
    },
    {
      "cell_type": "code",
      "source": [
        "print ( 13 + 5)\n",
        "print ( 13 - 5)\n",
        "print ( 13 * 5)\n",
        "print ( 13 / 5)\n",
        "print ( 13 // 5)\n",
        "print ( 13 % 5)\n",
        "print ( 13 ** 5)\n"
      ],
      "metadata": {
        "colab": {
          "base_uri": "https://localhost:8080/"
        },
        "id": "Cpo-kC1YXF57",
        "outputId": "ee0e4e13-ae2d-421e-a6c6-37cc42e82539"
      },
      "execution_count": null,
      "outputs": [
        {
          "output_type": "stream",
          "name": "stdout",
          "text": [
            "18\n",
            "8\n",
            "65\n",
            "2.6\n",
            "2\n",
            "3\n",
            "371293\n"
          ]
        }
      ]
    },
    {
      "cell_type": "markdown",
      "source": [
        "### % is modulus, which will return that remainder"
      ],
      "metadata": {
        "id": "6h5kA4baq7RY"
      }
    },
    {
      "cell_type": "code",
      "source": [
        "print (13 % 5)\n",
        "print (22 % 7)"
      ],
      "metadata": {
        "colab": {
          "base_uri": "https://localhost:8080/"
        },
        "id": "81aNEl-yqbH6",
        "outputId": "8789e43d-100c-41a5-9d13-17938cc2281d"
      },
      "execution_count": null,
      "outputs": [
        {
          "output_type": "stream",
          "name": "stdout",
          "text": [
            "3\n",
            "1\n"
          ]
        }
      ]
    },
    {
      "cell_type": "markdown",
      "source": [
        "###// floor division, how many times 5 fits into 13"
      ],
      "metadata": {
        "id": "ATi-fKyarHXg"
      }
    },
    {
      "cell_type": "code",
      "source": [
        "print (13 // 5)"
      ],
      "metadata": {
        "colab": {
          "base_uri": "https://localhost:8080/"
        },
        "id": "7Elceqv8q5O3",
        "outputId": "167a3e33-91d8-447e-bb10-3c8e33f4b909"
      },
      "execution_count": null,
      "outputs": [
        {
          "output_type": "stream",
          "name": "stdout",
          "text": [
            "2\n"
          ]
        }
      ]
    },
    {
      "cell_type": "code",
      "source": [
        "print (22 //7 )"
      ],
      "metadata": {
        "colab": {
          "base_uri": "https://localhost:8080/"
        },
        "id": "za-g0t07rNI5",
        "outputId": "89b6303f-f622-486c-9270-130e097790e8"
      },
      "execution_count": null,
      "outputs": [
        {
          "output_type": "stream",
          "name": "stdout",
          "text": [
            "3\n"
          ]
        }
      ]
    },
    {
      "cell_type": "markdown",
      "source": [
        "### ** used for exponentiation, print 3 to the power of 3"
      ],
      "metadata": {
        "id": "tMscaU_Gsice"
      }
    },
    {
      "cell_type": "code",
      "source": [
        "print (3**3)"
      ],
      "metadata": {
        "colab": {
          "base_uri": "https://localhost:8080/"
        },
        "id": "gQF1tOVbrs2v",
        "outputId": "353a3f88-e4ee-447b-e615-d4ea025d4ca4"
      },
      "execution_count": null,
      "outputs": [
        {
          "output_type": "stream",
          "name": "stdout",
          "text": [
            "27\n"
          ]
        }
      ]
    },
    {
      "cell_type": "code",
      "source": [
        "print (4**3)"
      ],
      "metadata": {
        "colab": {
          "base_uri": "https://localhost:8080/"
        },
        "id": "RksdWZROsvRd",
        "outputId": "0395c80a-6992-4f46-a623-f113ee10336c"
      },
      "execution_count": null,
      "outputs": [
        {
          "output_type": "stream",
          "name": "stdout",
          "text": [
            "64\n"
          ]
        }
      ]
    },
    {
      "cell_type": "code",
      "source": [
        "print (4**0.5)"
      ],
      "metadata": {
        "colab": {
          "base_uri": "https://localhost:8080/"
        },
        "id": "lNlS12cysx_7",
        "outputId": "fb2fd23b-0637-4210-8ee3-39178897db22"
      },
      "execution_count": null,
      "outputs": [
        {
          "output_type": "stream",
          "name": "stdout",
          "text": [
            "2.0\n"
          ]
        }
      ]
    },
    {
      "cell_type": "code",
      "source": [
        "# prompt: square root of 100?\n",
        "\n",
        "import math\n",
        "print(math.sqrt(100))"
      ],
      "metadata": {
        "id": "xbOGsvOgtpFs",
        "colab": {
          "base_uri": "https://localhost:8080/"
        },
        "outputId": "cb21b4d3-4b01-4b5f-c8aa-a03e7d9b691a"
      },
      "execution_count": null,
      "outputs": [
        {
          "output_type": "stream",
          "name": "stdout",
          "text": [
            "10.0\n"
          ]
        }
      ]
    },
    {
      "cell_type": "code",
      "source": [
        "import math\n",
        "print(math.sqrt(100))"
      ],
      "metadata": {
        "colab": {
          "base_uri": "https://localhost:8080/"
        },
        "id": "SMQUF_c_uBZ0",
        "outputId": "20239d52-ff4e-4137-8a36-b601a8d814b3"
      },
      "execution_count": null,
      "outputs": [
        {
          "output_type": "stream",
          "name": "stdout",
          "text": [
            "10.0\n"
          ]
        }
      ]
    },
    {
      "cell_type": "code",
      "source": [
        "print (math.sqrt(100))"
      ],
      "metadata": {
        "colab": {
          "base_uri": "https://localhost:8080/"
        },
        "id": "5Ks0NbJHuEIU",
        "outputId": "08d409e0-3708-4163-cd34-e2be4529e110"
      },
      "execution_count": null,
      "outputs": [
        {
          "output_type": "stream",
          "name": "stdout",
          "text": [
            "10.0\n"
          ]
        }
      ]
    },
    {
      "cell_type": "markdown",
      "source": [
        "### importing math module"
      ],
      "metadata": {
        "id": "qvUgzPBTut7j"
      }
    },
    {
      "cell_type": "code",
      "source": [
        "import math"
      ],
      "metadata": {
        "id": "7kwn_4tMuWrX"
      },
      "execution_count": null,
      "outputs": []
    },
    {
      "cell_type": "code",
      "source": [
        "math.sqrt(100)"
      ],
      "metadata": {
        "colab": {
          "base_uri": "https://localhost:8080/"
        },
        "id": "QUwqCfgxu112",
        "outputId": "df793ee8-fd81-4e40-ad6a-afd1f40373fd"
      },
      "execution_count": null,
      "outputs": [
        {
          "output_type": "execute_result",
          "data": {
            "text/plain": [
              "10.0"
            ]
          },
          "metadata": {},
          "execution_count": 56
        }
      ]
    },
    {
      "cell_type": "markdown",
      "source": [
        "comments are ignored during the execution of code"
      ],
      "metadata": {
        "id": "eUOxoYwHwprm"
      }
    },
    {
      "cell_type": "code",
      "source": [
        "#This is a comment."
      ],
      "metadata": {
        "id": "bIH6Pik_u5nM"
      },
      "execution_count": null,
      "outputs": []
    },
    {
      "cell_type": "code",
      "source": [
        "import math\n",
        "# This code will import math module."
      ],
      "metadata": {
        "id": "mFbNUbbxw6yj"
      },
      "execution_count": null,
      "outputs": []
    },
    {
      "cell_type": "code",
      "source": [
        "print (\"Danny\")"
      ],
      "metadata": {
        "colab": {
          "base_uri": "https://localhost:8080/"
        },
        "id": "QTI1OJEiw_xX",
        "outputId": "7b50480e-6b2d-4340-9a70-b48d8c60fc51"
      },
      "execution_count": null,
      "outputs": [
        {
          "output_type": "stream",
          "name": "stdout",
          "text": [
            "Danny\n"
          ]
        }
      ]
    },
    {
      "cell_type": "code",
      "source": [
        "name = \"Danny\"\n",
        "# This is declaring name variable and assigning Danny as value\n",
        "#no output while declaring a variable"
      ],
      "metadata": {
        "id": "qcg0JPjjyqJT"
      },
      "execution_count": null,
      "outputs": []
    },
    {
      "cell_type": "code",
      "source": [
        "print (name)\n",
        "#This code will check the memory and if it finds somehing assigned to name\n",
        "#i will return that value"
      ],
      "metadata": {
        "colab": {
          "base_uri": "https://localhost:8080/"
        },
        "id": "xHf39u4_zJGL",
        "outputId": "9ef1fbe3-4faa-4aa6-d7e9-f8ec7d99748b"
      },
      "execution_count": null,
      "outputs": [
        {
          "output_type": "stream",
          "name": "stdout",
          "text": [
            "Danny\n"
          ]
        }
      ]
    },
    {
      "cell_type": "code",
      "source": [
        "print (mylocation)"
      ],
      "metadata": {
        "colab": {
          "base_uri": "https://localhost:8080/"
        },
        "id": "16hc-ZFAzKl9",
        "outputId": "9130cab0-e269-4510-df3e-6a8e03ff88ed"
      },
      "execution_count": null,
      "outputs": [
        {
          "output_type": "stream",
          "name": "stdout",
          "text": [
            "Home\n"
          ]
        }
      ]
    },
    {
      "cell_type": "code",
      "source": [
        "mylocation = \"Home\""
      ],
      "metadata": {
        "id": "75iUCerGzjuu"
      },
      "execution_count": null,
      "outputs": []
    },
    {
      "cell_type": "code",
      "source": [
        "print (mylocation)"
      ],
      "metadata": {
        "colab": {
          "base_uri": "https://localhost:8080/"
        },
        "id": "48Fk4gq9zmyW",
        "outputId": "1d189826-72ab-40da-d729-2ff840928f9b"
      },
      "execution_count": null,
      "outputs": [
        {
          "output_type": "stream",
          "name": "stdout",
          "text": [
            "Home\n"
          ]
        }
      ]
    },
    {
      "cell_type": "code",
      "source": [
        "myage = \"35\""
      ],
      "metadata": {
        "id": "LmVNgNSgzvJX"
      },
      "execution_count": null,
      "outputs": []
    },
    {
      "cell_type": "code",
      "source": [
        "print (myage)"
      ],
      "metadata": {
        "colab": {
          "base_uri": "https://localhost:8080/"
        },
        "id": "2c_T3A0wz1Pk",
        "outputId": "78e045f6-82d8-4f0d-c452-04a5ac7ae170"
      },
      "execution_count": null,
      "outputs": [
        {
          "output_type": "stream",
          "name": "stdout",
          "text": [
            "35\n"
          ]
        }
      ]
    },
    {
      "cell_type": "code",
      "source": [
        "print (name, mylocation, myage)"
      ],
      "metadata": {
        "colab": {
          "base_uri": "https://localhost:8080/"
        },
        "id": "iguS0JJ9z3S0",
        "outputId": "08d6ec83-8670-4935-9efc-f82e9efd3777"
      },
      "execution_count": null,
      "outputs": [
        {
          "output_type": "stream",
          "name": "stdout",
          "text": [
            "Danny Home 35\n"
          ]
        }
      ]
    },
    {
      "cell_type": "code",
      "source": [
        "condition = True"
      ],
      "metadata": {
        "id": "3ukV0M3jz7T4"
      },
      "execution_count": null,
      "outputs": []
    },
    {
      "cell_type": "code",
      "source": [
        "print (condition)"
      ],
      "metadata": {
        "colab": {
          "base_uri": "https://localhost:8080/"
        },
        "id": "ksheCo0V0ZTi",
        "outputId": "bd7d64f4-12ee-497c-a105-9d0659dbb944"
      },
      "execution_count": null,
      "outputs": [
        {
          "output_type": "stream",
          "name": "stdout",
          "text": [
            "True\n"
          ]
        }
      ]
    },
    {
      "cell_type": "code",
      "source": [
        "my_age = 33"
      ],
      "metadata": {
        "id": "HKaVKFze0e9Z"
      },
      "execution_count": null,
      "outputs": []
    },
    {
      "cell_type": "code",
      "source": [
        "print (my_age)"
      ],
      "metadata": {
        "colab": {
          "base_uri": "https://localhost:8080/"
        },
        "id": "rmC6hCok0k9n",
        "outputId": "0b7090e8-7b07-4458-f270-8cbd4f944fc8"
      },
      "execution_count": null,
      "outputs": [
        {
          "output_type": "stream",
          "name": "stdout",
          "text": [
            "33\n"
          ]
        }
      ]
    },
    {
      "cell_type": "code",
      "source": [
        "your_age = 30"
      ],
      "metadata": {
        "id": "2bsb0QJV0n_q"
      },
      "execution_count": null,
      "outputs": []
    },
    {
      "cell_type": "code",
      "source": [
        "my_age = your_age"
      ],
      "metadata": {
        "id": "HHpVdDAS0qv-"
      },
      "execution_count": null,
      "outputs": []
    },
    {
      "cell_type": "code",
      "source": [
        "print (my_age)"
      ],
      "metadata": {
        "colab": {
          "base_uri": "https://localhost:8080/"
        },
        "id": "1EjD8hsQ0vN1",
        "outputId": "d89f880d-5b28-4835-e7ee-df519f6cd31b"
      },
      "execution_count": null,
      "outputs": [
        {
          "output_type": "stream",
          "name": "stdout",
          "text": [
            "30\n"
          ]
        }
      ]
    },
    {
      "cell_type": "code",
      "source": [
        "my_age = 33\n",
        "your_age = 30\n",
        "my_age = your_age\n",
        "print (my_age)\n",
        "# the keywords are stored in the memory.\n",
        "# quotations only tobe used around string values"
      ],
      "metadata": {
        "colab": {
          "base_uri": "https://localhost:8080/"
        },
        "id": "KhyU21-G0yCH",
        "outputId": "13d6b0f8-0c11-471e-deac-6c79d8f2e050"
      },
      "execution_count": null,
      "outputs": [
        {
          "output_type": "stream",
          "name": "stdout",
          "text": [
            "30\n"
          ]
        }
      ]
    },
    {
      "cell_type": "code",
      "source": [
        "myname = \"Danny\"\n",
        "print (myname)\n",
        "print (type(myname))\n",
        "print (len(myname))"
      ],
      "metadata": {
        "colab": {
          "base_uri": "https://localhost:8080/"
        },
        "id": "HfrPIfq002vw",
        "outputId": "0224b693-459f-4d8c-c36c-8718ef07637a"
      },
      "execution_count": null,
      "outputs": [
        {
          "output_type": "stream",
          "name": "stdout",
          "text": [
            "Danny\n",
            "<class 'str'>\n",
            "5\n"
          ]
        }
      ]
    },
    {
      "cell_type": "code",
      "source": [
        "myName = \"Danny O'Keefe\"\n",
        "print(\"Data type:\", type(myName))\n",
        "print(\"Length:\", len(myName))\n",
        "print(\"Hello, my name is\", myName)"
      ],
      "metadata": {
        "colab": {
          "base_uri": "https://localhost:8080/"
        },
        "id": "BAGIUdU83f8w",
        "outputId": "d11d4977-bd91-4357-da05-3c0cbd7790f1"
      },
      "execution_count": null,
      "outputs": [
        {
          "output_type": "stream",
          "name": "stdout",
          "text": [
            "Data type: <class 'str'>\n",
            "Length: 13\n",
            "Hello, my name is Danny O'Keefe\n"
          ]
        }
      ]
    },
    {
      "cell_type": "code",
      "source": [
        "print(f'Myname is {myName}, type is {type(myName)}, len is {len(myName)}')\n",
        "# all variables can be used in the same string\n",
        "# this is called f-string"
      ],
      "metadata": {
        "colab": {
          "base_uri": "https://localhost:8080/"
        },
        "id": "lY9F9hpS5M_H",
        "outputId": "1e42a786-8379-4c9a-9bb5-8e98792950be"
      },
      "execution_count": null,
      "outputs": [
        {
          "output_type": "stream",
          "name": "stdout",
          "text": [
            "Myname is Danny O'Keefe, type is <class 'str'>, len is 13\n"
          ]
        }
      ]
    },
    {
      "cell_type": "markdown",
      "source": [
        "#input function"
      ],
      "metadata": {
        "id": "bO_VLNPOELfJ"
      }
    },
    {
      "cell_type": "code",
      "source": [
        "print(\"Please enter your name:\")\n",
        "myname = input()\n",
        "print (f\"Hi, {myname}. Nice to meet you.\")"
      ],
      "metadata": {
        "colab": {
          "base_uri": "https://localhost:8080/"
        },
        "id": "Qy_y9KYC6Q12",
        "outputId": "37ab1473-0e6d-4fb1-9ab9-5c9dd69ea265"
      },
      "execution_count": null,
      "outputs": [
        {
          "output_type": "stream",
          "name": "stdout",
          "text": [
            "Please enter your name:\n",
            "Danny\n",
            "Hi, Danny. Nice to meet you.\n"
          ]
        }
      ]
    },
    {
      "cell_type": "code",
      "source": [
        "myname = input(\"Please enter your name: \")\n",
        "print (f\"Hi, {myname}. Nice to meet you.\")"
      ],
      "metadata": {
        "colab": {
          "base_uri": "https://localhost:8080/"
        },
        "id": "EfDwstpGEgAW",
        "outputId": "b83d0508-48ff-4543-a3cd-21e7519b230a"
      },
      "execution_count": null,
      "outputs": [
        {
          "output_type": "stream",
          "name": "stdout",
          "text": [
            "Please enter your name: Danny\n",
            "Hi, Danny. Nice to meet you.\n"
          ]
        }
      ]
    },
    {
      "cell_type": "code",
      "source": [
        "myname = input(\"Please enter your age: \")\n",
        "print (f\"Hi, you are {myage}. years old.\")\n",
        "print (type(myage))\n",
        "print (f\"You will be {myage + 1} years old next year\") #this line returns error\n",
        "#becuase input function store value as string\n",
        "#you cannot add myage a string, to + 1 an integer"
      ],
      "metadata": {
        "colab": {
          "base_uri": "https://localhost:8080/",
          "height": 245
        },
        "id": "kVh_Q1IzFF5l",
        "outputId": "32deca27-4de4-4611-c43e-3863bda10375"
      },
      "execution_count": null,
      "outputs": [
        {
          "output_type": "stream",
          "name": "stdout",
          "text": [
            "Please enter your age: 35\n",
            "Hi, you are 35. years old.\n",
            "<class 'str'>\n"
          ]
        },
        {
          "output_type": "error",
          "ename": "TypeError",
          "evalue": "can only concatenate str (not \"int\") to str",
          "traceback": [
            "\u001b[0;31m---------------------------------------------------------------------------\u001b[0m",
            "\u001b[0;31mTypeError\u001b[0m                                 Traceback (most recent call last)",
            "\u001b[0;32m<ipython-input-95-82dfcd37f98d>\u001b[0m in \u001b[0;36m<cell line: 0>\u001b[0;34m()\u001b[0m\n\u001b[1;32m      2\u001b[0m \u001b[0mprint\u001b[0m \u001b[0;34m(\u001b[0m\u001b[0;34mf\"Hi, you are {myage}. years old.\"\u001b[0m\u001b[0;34m)\u001b[0m\u001b[0;34m\u001b[0m\u001b[0;34m\u001b[0m\u001b[0m\n\u001b[1;32m      3\u001b[0m \u001b[0mprint\u001b[0m \u001b[0;34m(\u001b[0m\u001b[0mtype\u001b[0m\u001b[0;34m(\u001b[0m\u001b[0mmyage\u001b[0m\u001b[0;34m)\u001b[0m\u001b[0;34m)\u001b[0m\u001b[0;34m\u001b[0m\u001b[0;34m\u001b[0m\u001b[0m\n\u001b[0;32m----> 4\u001b[0;31m \u001b[0mprint\u001b[0m \u001b[0;34m(\u001b[0m\u001b[0;34mf\"You will be {myage + 1} years old next year\"\u001b[0m\u001b[0;34m)\u001b[0m\u001b[0;34m\u001b[0m\u001b[0;34m\u001b[0m\u001b[0m\n\u001b[0m\u001b[1;32m      5\u001b[0m \u001b[0;31m#becuase inout function store value as string\u001b[0m\u001b[0;34m\u001b[0m\u001b[0;34m\u001b[0m\u001b[0m\n",
            "\u001b[0;31mTypeError\u001b[0m: can only concatenate str (not \"int\") to str"
          ]
        }
      ]
    },
    {
      "cell_type": "code",
      "source": [
        "num1 = input(\"Enter first value\")\n",
        "print(type(num1))\n",
        "\n",
        "num2 = input(\"Enter second value\")\n",
        "print(type(num2))\n",
        "\n",
        "print (num1 + num2)"
      ],
      "metadata": {
        "colab": {
          "base_uri": "https://localhost:8080/"
        },
        "id": "axEal7I8FzZA",
        "outputId": "a4738b06-91d7-4f03-bca0-d1d9ed72bfd8"
      },
      "execution_count": null,
      "outputs": [
        {
          "output_type": "stream",
          "name": "stdout",
          "text": [
            "Enter first value1\n",
            "<class 'str'>\n",
            "Enter second value1\n",
            "<class 'str'>\n",
            "11\n"
          ]
        }
      ]
    },
    {
      "cell_type": "code",
      "source": [
        "print (int(num1))\n",
        "#change datatype to integer"
      ],
      "metadata": {
        "colab": {
          "base_uri": "https://localhost:8080/"
        },
        "id": "1-d73AniGdD-",
        "outputId": "75335543-ee8f-4910-ca5e-9e24890658f2"
      },
      "execution_count": null,
      "outputs": [
        {
          "output_type": "stream",
          "name": "stdout",
          "text": [
            "1\n"
          ]
        }
      ]
    },
    {
      "cell_type": "code",
      "source": [
        "print (int(num1) ** 2)"
      ],
      "metadata": {
        "colab": {
          "base_uri": "https://localhost:8080/"
        },
        "id": "O5XotPkLHcUm",
        "outputId": "d8246681-60af-4c38-db49-ca157f999791"
      },
      "execution_count": null,
      "outputs": [
        {
          "output_type": "stream",
          "name": "stdout",
          "text": [
            "1\n"
          ]
        }
      ]
    },
    {
      "cell_type": "code",
      "source": [
        "print (\"Tell me the time in hours and I will Calculate in seconds\")\n",
        "time_hour = input(\"How many hours? \")\n",
        "print (f\"Time in seconds is {int(time_hour) * 60 * 60}\")\n",
        "#integer will on give me round hours. 2.5 will not work"
      ],
      "metadata": {
        "colab": {
          "base_uri": "https://localhost:8080/"
        },
        "id": "_RBl02TzHxgg",
        "outputId": "1396c6d6-1925-45e9-c9eb-6baa750a4cd2"
      },
      "execution_count": null,
      "outputs": [
        {
          "output_type": "stream",
          "name": "stdout",
          "text": [
            "Tell me the time in hours and I will Calculate in seconds\n",
            "How many hours? 4\n",
            "Time in seconds is 14400\n"
          ]
        }
      ]
    },
    {
      "cell_type": "code",
      "source": [
        "print (\"Tell me the time in hours and I will Calculate in seconds\")\n",
        "time_hour = input(\"How many hours? \")\n",
        "print (f\"Time in seconds is {float(time_hour) * 60 * 60}\")\n",
        "# float function can convert decimal, so 2.5 will work."
      ],
      "metadata": {
        "colab": {
          "base_uri": "https://localhost:8080/"
        },
        "id": "P24shxVGIZ-l",
        "outputId": "708b1a6a-1435-4a4a-ce35-e2fb27ba8110"
      },
      "execution_count": null,
      "outputs": [
        {
          "output_type": "stream",
          "name": "stdout",
          "text": [
            "Tell me the time in hours and I will Calculate in seconds\n",
            "How many hours? 2.5\n",
            "Time in seconds is 9000.0\n"
          ]
        }
      ]
    },
    {
      "cell_type": "code",
      "source": [],
      "metadata": {
        "id": "YeBygwWUI9J0"
      },
      "execution_count": null,
      "outputs": []
    },
    {
      "cell_type": "markdown",
      "source": [
        "# float function is more secure o use in type conversion of numeric values"
      ],
      "metadata": {
        "id": "vlUAwLgaLPh4"
      }
    },
    {
      "cell_type": "code",
      "source": [
        "number1 = input(\"enter a number: \")\n",
        "#number 1 is stored as a string\n",
        "print (number1 * 2)\n",
        "#user entry is not a numeric by memory\n",
        "# i need to convert datatype before any calculation"
      ],
      "metadata": {
        "colab": {
          "base_uri": "https://localhost:8080/"
        },
        "id": "LS302Tc9LU5L",
        "outputId": "525a6fe8-edc6-46e2-8de9-ba89f518744e"
      },
      "execution_count": null,
      "outputs": [
        {
          "output_type": "stream",
          "name": "stdout",
          "text": [
            "enter a number: 20.5\n",
            "20.520.5\n"
          ]
        }
      ]
    },
    {
      "cell_type": "code",
      "source": [
        "#both int or float are used to convert numeric from string\n",
        "print (int(number1)*2)"
      ],
      "metadata": {
        "colab": {
          "base_uri": "https://localhost:8080/",
          "height": 159
        },
        "id": "PvaT76gULrck",
        "outputId": "9536559d-0071-4e0d-f888-15251656ce38"
      },
      "execution_count": null,
      "outputs": [
        {
          "output_type": "error",
          "ename": "ValueError",
          "evalue": "invalid literal for int() with base 10: '20.5'",
          "traceback": [
            "\u001b[0;31m---------------------------------------------------------------------------\u001b[0m",
            "\u001b[0;31mValueError\u001b[0m                                Traceback (most recent call last)",
            "\u001b[0;32m<ipython-input-112-9f2683d1f68e>\u001b[0m in \u001b[0;36m<cell line: 0>\u001b[0;34m()\u001b[0m\n\u001b[1;32m      1\u001b[0m \u001b[0;31m#both int or float are used to convert numeric from string\u001b[0m\u001b[0;34m\u001b[0m\u001b[0;34m\u001b[0m\u001b[0m\n\u001b[0;32m----> 2\u001b[0;31m \u001b[0mprint\u001b[0m \u001b[0;34m(\u001b[0m\u001b[0mint\u001b[0m\u001b[0;34m(\u001b[0m\u001b[0mnumber1\u001b[0m\u001b[0;34m)\u001b[0m\u001b[0;34m*\u001b[0m\u001b[0;36m2\u001b[0m\u001b[0;34m)\u001b[0m\u001b[0;34m\u001b[0m\u001b[0;34m\u001b[0m\u001b[0m\n\u001b[0m",
            "\u001b[0;31mValueError\u001b[0m: invalid literal for int() with base 10: '20.5'"
          ]
        }
      ]
    },
    {
      "cell_type": "code",
      "source": [
        "#use float function to return float value\n",
        "print (float(number1) * 2)"
      ],
      "metadata": {
        "colab": {
          "base_uri": "https://localhost:8080/"
        },
        "id": "1lb6i1f9L2lM",
        "outputId": "75d90764-bff6-432f-d3c9-6af16a95e45f"
      },
      "execution_count": null,
      "outputs": [
        {
          "output_type": "stream",
          "name": "stdout",
          "text": [
            "41.0\n"
          ]
        }
      ]
    },
    {
      "cell_type": "markdown",
      "source": [
        "# we better use float function to convert user entry"
      ],
      "metadata": {
        "id": "NFuvUj3fMH6L"
      }
    },
    {
      "cell_type": "code",
      "source": [
        "# Define functions for each operation\n",
        "def add(x, y):\n",
        "    return x + y\n",
        "\n",
        "def subtract(x, y):\n",
        "    return x - y\n",
        "\n",
        "def multiply(x, y):\n",
        "    return x * y\n",
        "\n",
        "def divide(x, y):\n",
        "    if y == 0:\n",
        "        return \"Error! Division by zero.\"\n",
        "    return x / y\n",
        "\n",
        "# Display the operation menu\n",
        "print(\"Select operation:\")\n",
        "print(\"1. Add\")\n",
        "print(\"2. Subtract\")\n",
        "print(\"3. Multiply\")\n",
        "print(\"4. Divide\")\n",
        "\n",
        "# Main loop\n",
        "while True:\n",
        "    choice = input(\"Enter choice (1/2/3/4): \")\n",
        "\n",
        "    if choice in ('1', '2', '3', '4'):\n",
        "        try:\n",
        "            num1 = float(input(\"Enter first number: \"))\n",
        "            num2 = float(input(\"Enter second number: \"))\n",
        "        except ValueError:\n",
        "            print(\"Invalid input. Please enter numeric values.\")\n",
        "            continue\n",
        "\n",
        "        if choice == '1':\n",
        "            print(f\"{num1} + {num2} = {add(num1, num2)}\")\n",
        "        elif choice == '2':\n",
        "            print(f\"{num1} - {num2} = {subtract(num1, num2)}\")\n",
        "        elif choice == '3':\n",
        "            print(f\"{num1} * {num2} = {multiply(num1, num2)}\")\n",
        "        elif choice == '4':\n",
        "            print(f\"{num1} / {num2} = {divide(num1, num2)}\")\n",
        "\n",
        "        # Check if the user wants another calculation\n",
        "        next_calculation = input(\"Do you want to perform another calculation? (yes/no): \")\n",
        "        if next_calculation.lower() != 'yes':\n",
        "            break\n",
        "    else:\n",
        "        print(\"Invalid input. Please select a valid operation.\")\n"
      ],
      "metadata": {
        "colab": {
          "base_uri": "https://localhost:8080/"
        },
        "id": "jPEhOPOOMjas",
        "outputId": "e12655dc-058e-47a8-8f23-2ffafa67304d"
      },
      "execution_count": null,
      "outputs": [
        {
          "name": "stdout",
          "output_type": "stream",
          "text": [
            "Select operation:\n",
            "1. Add\n",
            "2. Subtract\n",
            "3. Multiply\n",
            "4. Divide\n",
            "Enter choice (1/2/3/4): 2\n",
            "Enter first number: 17\n",
            "Enter second number: 34\n",
            "17.0 - 34.0 = -17.0\n",
            "Do you want to perform another calculation? (yes/no): yes\n"
          ]
        }
      ]
    },
    {
      "cell_type": "code",
      "source": [],
      "metadata": {
        "id": "BexbzWV8PE5Y"
      },
      "execution_count": null,
      "outputs": []
    }
  ]
}